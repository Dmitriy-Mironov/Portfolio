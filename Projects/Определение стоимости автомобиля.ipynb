{
 "cells": [
  {
   "cell_type": "markdown",
   "metadata": {},
   "source": [
    "<div class=\"alert alert-info\">\n",
    "<font size=\"5\"><b>Комментарий ревьюера</b></font>\n",
    "\n",
    "Привет Дмитрий! Меня зовут Марат, и я буду твоим ревьюером. Спешу сообщить что все ключевые этапы в работе выполнены,  с задачей тебе удалось справиться. По поводу обращения - в IT сфере принято общаться на «ты» :) Но, если привычней на «вы», дай знать. Как ревьюера моя задача помочь тебе в развитии, дав хорошие советы. Я внимательно посмотрю твой код, ознакомлюсь с твоими выводами и оставлю комментарии. Где то могу предложить небольшие исправление в коде, но ненавязчиво. Где потребуются уточнения, я оставлю много наводящих вопросов. Они помогут тебя с поиском верного решения.\n",
    "\n",
    "Все мои комментарии размечены по цветам, для лучшего восприятия. \n",
    "    \n",
    "<div class=\"alert alert-success\">Зеленым цветом и 👍, словом «Успех» отмечены особо удачные и элегантные решения, которыми ты можешь гордиться. </div>\n",
    "        \n",
    "<div class=\"alert alert-warning\">Желтым и 🤔, словом «Совет», помечены решения у которых есть альтернативные решения, более оптимальные. Ты можешь найти их сразу и доработать проект, или отложить это на потом, для будущих проектах. Проект будет принят и без их доработки. </div>\n",
    "        \n",
    "<div class=\"alert alert-danger\"> Красным цветом и значком ❌, словом «Ошибка» помечу твои решения, на которые стоит обратить внимание прежде всего. После их доработки проект будет принят. </div>\n",
    "        \n",
    "Залог успеха - работа сообща, взаимное уважение и работа в диалоге. Поэтому, помечай свои ответные комментарии на мои реплики заметным цветом или курсивом, так мне будет легче их отслеживать. Пожалуйста, не изменяй и не удаляй мои комментарии. Все это поможет выполнить повторную проверку быстрей.\n",
    "\n",
    "</div>"
   ]
  },
  {
   "cell_type": "markdown",
   "metadata": {},
   "source": [
    "<div class=\"alert alert-info\">\n",
    "<font size=\"5\"><b>Комментарий студента</b></font>\n",
    "    \n",
    "Привет, Марат! Спасибо за проверку) Все исправил по твоим комментариям, некоторые советы уже тут применил(которые не применил, обязательно учту в следующих проектах).\n",
    "</div>"
   ]
  },
  {
   "cell_type": "markdown",
   "metadata": {},
   "source": [
    "<div class=\"alert alert-success\">\n",
    "<font size=\"5\"><b>Комментарий ревьюераV2</b></font>\n",
    "\n",
    "\n",
    "\n",
    "Успех 👍:\n",
    "\n",
    "\n",
    "\n",
    "Привет Дмитрий! посмотрим )\n",
    "\n",
    "\n",
    "\n",
    "\n",
    "</div>\n"
   ]
  },
  {
   "cell_type": "markdown",
   "metadata": {},
   "source": [
    "<div class=\"alert alert-info\">\n",
    "<font size=\"5\"><b>Комментарий студента V2</b></font>\n",
    "    \n",
    "Очень странно я тебе в предыдущий раз отправлял как раз с решением $w$ и $w_P$, и еще тогда хотел спросить что это все, НО почему то это все не сохранилось, надеюсь в этот раз до тебя дойдет последняя версия.\n",
    "</div>"
   ]
  },
  {
   "cell_type": "markdown",
   "metadata": {},
   "source": [
    "<div class=\"alert alert-success\">\n",
    "<font size=\"5\"><b>Комментарий ревьюераV3</b></font>\n",
    "\n",
    "\n",
    "\n",
    "Успех 👍:\n",
    "\n",
    "\n",
    "\n",
    "посмотрим )\n",
    "\n",
    "\n",
    "\n",
    "\n",
    "</div>\n"
   ]
  },
  {
   "cell_type": "markdown",
   "metadata": {
    "toc": true
   },
   "source": [
    "<h1>Содержание<span class=\"tocSkip\"></span></h1>\n",
    "<div class=\"toc\"><ul class=\"toc-item\"><li><span><a href=\"#Загрузка-данных\" data-toc-modified-id=\"Загрузка-данных-1\"><span class=\"toc-item-num\">1&nbsp;&nbsp;</span>Загрузка данных</a></span></li><li><span><a href=\"#Умножение-матриц\" data-toc-modified-id=\"Умножение-матриц-2\"><span class=\"toc-item-num\">2&nbsp;&nbsp;</span>Умножение матриц</a></span></li><li><span><a href=\"#Алгоритм-преобразования\" data-toc-modified-id=\"Алгоритм-преобразования-3\"><span class=\"toc-item-num\">3&nbsp;&nbsp;</span>Алгоритм преобразования</a></span></li><li><span><a href=\"#Проверка-алгоритма\" data-toc-modified-id=\"Проверка-алгоритма-4\"><span class=\"toc-item-num\">4&nbsp;&nbsp;</span>Проверка алгоритма</a></span><ul class=\"toc-item\"><li><span><a href=\"#Исходные-данные\" data-toc-modified-id=\"Исходные-данные-4.1\"><span class=\"toc-item-num\">4.1&nbsp;&nbsp;</span>Исходные данные</a></span></li><li><span><a href=\"#Преобразованные-данные\" data-toc-modified-id=\"Преобразованные-данные-4.2\"><span class=\"toc-item-num\">4.2&nbsp;&nbsp;</span>Преобразованные данные</a></span></li></ul></li><li><span><a href=\"#Вывод:\" data-toc-modified-id=\"Вывод:-5\"><span class=\"toc-item-num\">5&nbsp;&nbsp;</span>Вывод:</a></span></li><li><span><a href=\"#Чек-лист-проверки\" data-toc-modified-id=\"Чек-лист-проверки-6\"><span class=\"toc-item-num\">6&nbsp;&nbsp;</span>Чек-лист проверки</a></span></li></ul></div>"
   ]
  },
  {
   "cell_type": "markdown",
   "metadata": {},
   "source": [
    "# Защита персональных данных клиентов"
   ]
  },
  {
   "cell_type": "markdown",
   "metadata": {},
   "source": [
    "Вам нужно защитить данные клиентов страховой компании «Хоть потоп». Разработайте такой метод преобразования данных, чтобы по ним было сложно восстановить персональную информацию. Обоснуйте корректность его работы.\n",
    "\n",
    "Нужно защитить данные, чтобы при преобразовании качество моделей машинного обучения не ухудшилось. Подбирать наилучшую модель не требуется."
   ]
  },
  {
   "cell_type": "markdown",
   "metadata": {},
   "source": [
    "**План работы:**\n",
    "* 1. Загрузите и изучите данные.\n",
    "* 2. Ответьте на вопрос и обоснуйте решение. \n",
    "    Признаки умножают на обратимую матрицу. Изменится ли качество линейной регрессии? (Её можно обучить заново.)\n",
    "    * a. Изменится. Приведите примеры матриц.\n",
    "    * b. Не изменится. Укажите, как связаны параметры линейной регрессии в исходной задаче и в преобразованной.\n",
    "* 3. Предложите алгоритм преобразования данных для решения задачи. Обоснуйте, почему качество линейной регрессии не поменяется.\n",
    "* 4. Запрограммируйте этот алгоритм, применив матричные операции. Проверьте, что качество линейной регрессии из sklearn не отличается до и после преобразования. Примените метрику R2."
   ]
  },
  {
   "cell_type": "markdown",
   "metadata": {},
   "source": [
    "<div class=\"alert alert-success\">\n",
    "<font size=\"5\"><b>Комментарий ревьюера</b></font>\n",
    "\n",
    "Успех 👍:\n",
    "\n",
    "\n",
    "Вступление в работу очень важно, так человек, который смотрит твой проект (и на работе в том числе) будет сразу введен в курс дела.\n",
    "\n",
    "\n",
    "\n",
    "\n",
    "\n",
    "</div>"
   ]
  },
  {
   "cell_type": "markdown",
   "metadata": {},
   "source": [
    "## Загрузка данных"
   ]
  },
  {
   "cell_type": "code",
   "execution_count": 1,
   "metadata": {},
   "outputs": [],
   "source": [
    "#загружаем библиотеки\n",
    "import pandas as pd\n",
    "import numpy as np\n",
    "import matplotlib.pyplot as plt\n",
    "import seaborn as sns\n",
    "\n",
    "from sklearn.metrics import mean_squared_error\n",
    "from sklearn.model_selection import train_test_split\n",
    "from sklearn.linear_model import LinearRegression\n",
    "from sklearn.metrics import accuracy_score\n",
    "from sklearn.metrics import r2_score\n",
    "from tqdm.notebook import tqdm\n",
    "\n",
    "import warnings\n",
    "warnings.filterwarnings('ignore')"
   ]
  },
  {
   "cell_type": "markdown",
   "metadata": {},
   "source": [
    "\n",
    "<div class=\"alert alert-success\">\n",
    "<font size=\"5\"><b>Комментарий ревьюера</b></font>\n",
    "\n",
    "Успех:\n",
    "\n",
    "Собираем все импорты в верхней части, чтобы легче было ориентироваться и добавлять новые по необходимости. \n",
    "\n",
    "\n",
    "<div class=\"alert alert-warning\">\n",
    "\n",
    "Совет:     \n",
    "    \n",
    "\n",
    "\n",
    "- кстати есть рекомендации PEP-8 при написании кода, в том числе и для импортов. Если интересно можешь почитать [тут](https://pythonworld.ru/osnovy/pep-8-rukovodstvo-po-napisaniyu-koda-na-python.html), это на будущее \n"
   ]
  },
  {
   "cell_type": "code",
   "execution_count": 2,
   "metadata": {},
   "outputs": [
    {
     "data": {
      "text/html": [
       "<div>\n",
       "<style scoped>\n",
       "    .dataframe tbody tr th:only-of-type {\n",
       "        vertical-align: middle;\n",
       "    }\n",
       "\n",
       "    .dataframe tbody tr th {\n",
       "        vertical-align: top;\n",
       "    }\n",
       "\n",
       "    .dataframe thead th {\n",
       "        text-align: right;\n",
       "    }\n",
       "</style>\n",
       "<table border=\"1\" class=\"dataframe\">\n",
       "  <thead>\n",
       "    <tr style=\"text-align: right;\">\n",
       "      <th></th>\n",
       "      <th>Пол</th>\n",
       "      <th>Возраст</th>\n",
       "      <th>Зарплата</th>\n",
       "      <th>Члены семьи</th>\n",
       "      <th>Страховые выплаты</th>\n",
       "    </tr>\n",
       "  </thead>\n",
       "  <tbody>\n",
       "    <tr>\n",
       "      <th>0</th>\n",
       "      <td>1</td>\n",
       "      <td>41.0</td>\n",
       "      <td>49600.0</td>\n",
       "      <td>1</td>\n",
       "      <td>0</td>\n",
       "    </tr>\n",
       "    <tr>\n",
       "      <th>1</th>\n",
       "      <td>0</td>\n",
       "      <td>46.0</td>\n",
       "      <td>38000.0</td>\n",
       "      <td>1</td>\n",
       "      <td>1</td>\n",
       "    </tr>\n",
       "    <tr>\n",
       "      <th>2</th>\n",
       "      <td>0</td>\n",
       "      <td>29.0</td>\n",
       "      <td>21000.0</td>\n",
       "      <td>0</td>\n",
       "      <td>0</td>\n",
       "    </tr>\n",
       "    <tr>\n",
       "      <th>3</th>\n",
       "      <td>0</td>\n",
       "      <td>21.0</td>\n",
       "      <td>41700.0</td>\n",
       "      <td>2</td>\n",
       "      <td>0</td>\n",
       "    </tr>\n",
       "    <tr>\n",
       "      <th>4</th>\n",
       "      <td>1</td>\n",
       "      <td>28.0</td>\n",
       "      <td>26100.0</td>\n",
       "      <td>0</td>\n",
       "      <td>0</td>\n",
       "    </tr>\n",
       "  </tbody>\n",
       "</table>\n",
       "</div>"
      ],
      "text/plain": [
       "   Пол  Возраст  Зарплата  Члены семьи  Страховые выплаты\n",
       "0    1     41.0   49600.0            1                  0\n",
       "1    0     46.0   38000.0            1                  1\n",
       "2    0     29.0   21000.0            0                  0\n",
       "3    0     21.0   41700.0            2                  0\n",
       "4    1     28.0   26100.0            0                  0"
      ]
     },
     "execution_count": 2,
     "metadata": {},
     "output_type": "execute_result"
    }
   ],
   "source": [
    "data = pd.read_csv('/datasets/insurance.csv')\n",
    "data.head()"
   ]
  },
  {
   "cell_type": "code",
   "execution_count": 3,
   "metadata": {},
   "outputs": [
    {
     "data": {
      "text/html": [
       "<div>\n",
       "<style scoped>\n",
       "    .dataframe tbody tr th:only-of-type {\n",
       "        vertical-align: middle;\n",
       "    }\n",
       "\n",
       "    .dataframe tbody tr th {\n",
       "        vertical-align: top;\n",
       "    }\n",
       "\n",
       "    .dataframe thead th {\n",
       "        text-align: right;\n",
       "    }\n",
       "</style>\n",
       "<table border=\"1\" class=\"dataframe\">\n",
       "  <thead>\n",
       "    <tr style=\"text-align: right;\">\n",
       "      <th></th>\n",
       "      <th>Пол</th>\n",
       "      <th>Возраст</th>\n",
       "      <th>Зарплата</th>\n",
       "      <th>Члены семьи</th>\n",
       "      <th>Страховые выплаты</th>\n",
       "    </tr>\n",
       "  </thead>\n",
       "  <tbody>\n",
       "    <tr>\n",
       "      <th>count</th>\n",
       "      <td>5000.000000</td>\n",
       "      <td>5000.000000</td>\n",
       "      <td>5000.000000</td>\n",
       "      <td>5000.000000</td>\n",
       "      <td>5000.000000</td>\n",
       "    </tr>\n",
       "    <tr>\n",
       "      <th>mean</th>\n",
       "      <td>0.499000</td>\n",
       "      <td>30.952800</td>\n",
       "      <td>39916.360000</td>\n",
       "      <td>1.194200</td>\n",
       "      <td>0.148000</td>\n",
       "    </tr>\n",
       "    <tr>\n",
       "      <th>std</th>\n",
       "      <td>0.500049</td>\n",
       "      <td>8.440807</td>\n",
       "      <td>9900.083569</td>\n",
       "      <td>1.091387</td>\n",
       "      <td>0.463183</td>\n",
       "    </tr>\n",
       "    <tr>\n",
       "      <th>min</th>\n",
       "      <td>0.000000</td>\n",
       "      <td>18.000000</td>\n",
       "      <td>5300.000000</td>\n",
       "      <td>0.000000</td>\n",
       "      <td>0.000000</td>\n",
       "    </tr>\n",
       "    <tr>\n",
       "      <th>25%</th>\n",
       "      <td>0.000000</td>\n",
       "      <td>24.000000</td>\n",
       "      <td>33300.000000</td>\n",
       "      <td>0.000000</td>\n",
       "      <td>0.000000</td>\n",
       "    </tr>\n",
       "    <tr>\n",
       "      <th>50%</th>\n",
       "      <td>0.000000</td>\n",
       "      <td>30.000000</td>\n",
       "      <td>40200.000000</td>\n",
       "      <td>1.000000</td>\n",
       "      <td>0.000000</td>\n",
       "    </tr>\n",
       "    <tr>\n",
       "      <th>75%</th>\n",
       "      <td>1.000000</td>\n",
       "      <td>37.000000</td>\n",
       "      <td>46600.000000</td>\n",
       "      <td>2.000000</td>\n",
       "      <td>0.000000</td>\n",
       "    </tr>\n",
       "    <tr>\n",
       "      <th>max</th>\n",
       "      <td>1.000000</td>\n",
       "      <td>65.000000</td>\n",
       "      <td>79000.000000</td>\n",
       "      <td>6.000000</td>\n",
       "      <td>5.000000</td>\n",
       "    </tr>\n",
       "  </tbody>\n",
       "</table>\n",
       "</div>"
      ],
      "text/plain": [
       "               Пол      Возраст      Зарплата  Члены семьи  Страховые выплаты\n",
       "count  5000.000000  5000.000000   5000.000000  5000.000000        5000.000000\n",
       "mean      0.499000    30.952800  39916.360000     1.194200           0.148000\n",
       "std       0.500049     8.440807   9900.083569     1.091387           0.463183\n",
       "min       0.000000    18.000000   5300.000000     0.000000           0.000000\n",
       "25%       0.000000    24.000000  33300.000000     0.000000           0.000000\n",
       "50%       0.000000    30.000000  40200.000000     1.000000           0.000000\n",
       "75%       1.000000    37.000000  46600.000000     2.000000           0.000000\n",
       "max       1.000000    65.000000  79000.000000     6.000000           5.000000"
      ]
     },
     "execution_count": 3,
     "metadata": {},
     "output_type": "execute_result"
    }
   ],
   "source": [
    "data.describe()"
   ]
  },
  {
   "cell_type": "code",
   "execution_count": 4,
   "metadata": {
    "scrolled": true
   },
   "outputs": [
    {
     "name": "stdout",
     "output_type": "stream",
     "text": [
      "<class 'pandas.core.frame.DataFrame'>\n",
      "RangeIndex: 5000 entries, 0 to 4999\n",
      "Data columns (total 5 columns):\n",
      " #   Column             Non-Null Count  Dtype  \n",
      "---  ------             --------------  -----  \n",
      " 0   Пол                5000 non-null   int64  \n",
      " 1   Возраст            5000 non-null   float64\n",
      " 2   Зарплата           5000 non-null   float64\n",
      " 3   Члены семьи        5000 non-null   int64  \n",
      " 4   Страховые выплаты  5000 non-null   int64  \n",
      "dtypes: float64(2), int64(3)\n",
      "memory usage: 195.4 KB\n"
     ]
    }
   ],
   "source": [
    "data.info()"
   ]
  },
  {
   "cell_type": "code",
   "execution_count": 5,
   "metadata": {},
   "outputs": [
    {
     "data": {
      "text/plain": [
       "Пол                  0\n",
       "Возраст              0\n",
       "Зарплата             0\n",
       "Члены семьи          0\n",
       "Страховые выплаты    0\n",
       "dtype: int64"
      ]
     },
     "execution_count": 5,
     "metadata": {},
     "output_type": "execute_result"
    }
   ],
   "source": [
    "data.isna().sum()"
   ]
  },
  {
   "cell_type": "code",
   "execution_count": 6,
   "metadata": {},
   "outputs": [
    {
     "data": {
      "text/plain": [
       "153"
      ]
     },
     "execution_count": 6,
     "metadata": {},
     "output_type": "execute_result"
    }
   ],
   "source": [
    "data.duplicated().sum()"
   ]
  },
  {
   "cell_type": "code",
   "execution_count": 7,
   "metadata": {},
   "outputs": [
    {
     "data": {
      "text/plain": [
       "0"
      ]
     },
     "execution_count": 7,
     "metadata": {},
     "output_type": "execute_result"
    }
   ],
   "source": [
    "data.drop_duplicates(inplace=True)\n",
    "data.duplicated().sum()"
   ]
  },
  {
   "cell_type": "code",
   "execution_count": 8,
   "metadata": {},
   "outputs": [
    {
     "data": {
      "image/png": "[encoded data removed]",
      "text/plain": [
       "<Figure size 504x360 with 1 Axes>"
      ]
     },
     "metadata": {
      "needs_background": "light"
     },
     "output_type": "display_data"
    },
    {
     "data": {
      "image/png": "[encoded data removed]",
      "text/plain": [
       "<Figure size 504x360 with 1 Axes>"
      ]
     },
     "metadata": {
      "needs_background": "light"
     },
     "output_type": "display_data"
    },
    {
     "data": {
      "image/png": "[encoded data removed]",
      "text/plain": [
       "<Figure size 504x360 with 1 Axes>"
      ]
     },
     "metadata": {
      "needs_background": "light"
     },
     "output_type": "display_data"
    },
    {
     "data": {
      "image/png": "[encoded data removed]",
      "text/plain": [
       "<Figure size 504x360 with 1 Axes>"
      ]
     },
     "metadata": {
      "needs_background": "light"
     },
     "output_type": "display_data"
    },
    {
     "data": {
      "image/png": "[encoded data removed]",
      "text/plain": [
       "<Figure size 504x360 with 1 Axes>"
      ]
     },
     "metadata": {
      "needs_background": "light"
     },
     "output_type": "display_data"
    }
   ],
   "source": [
    "# Проанализируем гистограммы столбцов\n",
    "for column in data.columns:\n",
    "    plt.figure(figsize=(7,5))\n",
    "    data[column].hist(bins=25, edgecolor='r')\n",
    "    plt.title(f'Распределение столбца {column}')\n",
    "    plt.show()"
   ]
  },
  {
   "cell_type": "code",
   "execution_count": 9,
   "metadata": {},
   "outputs": [
    {
     "data": {
      "text/plain": [
       "<AxesSubplot:title={'center':'Корреляция между признаками'}>"
      ]
     },
     "execution_count": 9,
     "metadata": {},
     "output_type": "execute_result"
    },
    {
     "data": {
      "image/png": "[encoded data removed]",
      "text/plain": [
       "<Figure size 432x432 with 2 Axes>"
      ]
     },
     "metadata": {
      "needs_background": "light"
     },
     "output_type": "display_data"
    }
   ],
   "source": [
    "plt.figure(figsize = (6,6))\n",
    "plt.title('Корреляция между признаками', size=14)\n",
    "sns.heatmap(data.corr(), annot = True, square=True)"
   ]
  },
  {
   "cell_type": "markdown",
   "metadata": {},
   "source": [
    "**Вывод:**\n",
    "* Пропусков нету\n",
    "* Дубликаты удалены\n",
    "* Выбросов нету\n",
    "* Типы данных не требуют преобразования\n",
    "* Значительная корреляция только между целевым признаком(количество выплат) и возрастом клиента\n",
    "\n",
    "Данные готовы"
   ]
  },
  {
   "cell_type": "markdown",
   "metadata": {},
   "source": [
    "<div class=\"alert alert-success\">\n",
    "<font size=\"5\"><b>Комментарий ревьюера</b></font>\n",
    "\n",
    "Успех 👍: \n",
    "    \n",
    "EDA проведено.   Отличные графики\n",
    "\n",
    "\n",
    " \n",
    "    \n",
    "<div class=\"alert alert-warning\">\n",
    "\n",
    "\n",
    "Совет 🤔: \n",
    "    \n",
    "    \n",
    "- Кроме того можно посмотреть на    корреляцию признаков. Известно ли тебе понятие мультиколлиниарность, какие 2 типа проблемы вызывает она и для каких моделей, и почему для данного проекта было бы интересно на нее глянуть? \n",
    "\n",
    "</div>\n",
    "\n"
   ]
  },
  {
   "cell_type": "markdown",
   "metadata": {},
   "source": [
    "## Умножение матриц"
   ]
  },
  {
   "cell_type": "markdown",
   "metadata": {},
   "source": [
    "В этом задании вы можете записывать формулы в *Jupyter Notebook.*\n",
    "\n",
    "Чтобы записать формулу внутри текста, окружите её символами доллара \\\\$; если снаружи —  двойными символами \\\\$\\\\$. Эти формулы записываются на языке вёрстки *LaTeX.* \n",
    "\n",
    "Для примера мы записали формулы линейной регрессии. Можете их скопировать и отредактировать, чтобы решить задачу.\n",
    "\n",
    "Работать в *LaTeX* необязательно."
   ]
  },
  {
   "cell_type": "markdown",
   "metadata": {},
   "source": [
    "Обозначения:\n",
    "\n",
    "- $X$ — матрица признаков (нулевой столбец состоит из единиц)\n",
    "\n",
    "- $y$ — вектор целевого признака\n",
    "\n",
    "- $P$ — матрица, на которую умножаются признаки\n",
    "\n",
    "- $w$ — вектор весов линейной регрессии (нулевой элемент равен сдвигу)"
   ]
  },
  {
   "cell_type": "markdown",
   "metadata": {},
   "source": [
    "Предсказания:\n",
    "\n",
    "$$\n",
    "a = Xw\n",
    "$$\n",
    "\n",
    "Задача обучения:\n",
    "\n",
    "$$\n",
    "w = \\arg\\min_w MSE(Xw, y)\n",
    "$$\n",
    "\n",
    "Формула обучения:\n",
    "\n",
    "$$\n",
    "w = (X^T X)^{-1} X^T y\n",
    "$$"
   ]
  },
  {
   "cell_type": "markdown",
   "metadata": {},
   "source": [
    "**Ответ:** Качество Линейной регрессии НЕ ИЗМЕНИТСЯ.\n",
    "\n",
    "**Обоснование:** "
   ]
  },
  {
   "cell_type": "markdown",
   "metadata": {},
   "source": [
    "Формула предсказания после преобразования:\n",
    "$$\n",
    "a^{'} = XPw^{'}\n",
    "$$\n",
    "Вектор весов $w^{'}$ после преобразования:\n",
    "$$\n",
    "w^{'} = ((XP)^T XP)^{-1} (XP)^T y\n",
    "$$\n",
    "Тогда выразим предсказания через новый вектор весов:\n",
    "$$\n",
    "a^{'} = XP((XP)^T XP)^{-1} (XP)^T y\n",
    "$$\n",
    "Раскроем скобки для транспонируемых матриц при этом меняем порядок умножения:\n",
    "$$\n",
    "a^{'} = XP(P^T X^T XP)^{-1} P^T X^T y\n",
    "$$\n",
    "Теперь раскроем скобки для инверсии, порядок тоже меняется:\n",
    "$$\n",
    "a^{'} = XP (P)^{-1}(P^T X^T X)^{-1} P^T X^T y\n",
    "$$\n",
    "Для удобства оставим выражение $(X^T X)^{-1}$ в инверсии, чтобы потом выразить формулу обучения:\n",
    "$$\n",
    "a^{'} = XP (P)^{-1}(X^T X)^{-1} P^{T-1} P^T X^T y\n",
    "$$\n",
    "Увидели, что у нас есть произведение матриц на обратную им, а это даёт единичную матрицу, также умножение любой матрицы на единичную матрицу получается исходная матрица ($E = 1$):\n",
    "$$\n",
    "a^{'} = XE(X^T X)^{-1} E X^T y\n",
    "$$\n",
    "$$\n",
    "a^{'} = X(X^T X)^{-1} X^T y\n",
    "$$\n",
    "А это равносильно формуле предсказаний, для исходного набора признаков, т.к. $w = (X^T X)^{-1} X^T y$:\n",
    "$$\n",
    "a^{'} = Xw\n",
    "$$\n",
    "**что и требовалось доказать $a^{'} = a$**\n",
    "\n",
    "Итог: если любую матрицу Р умножить на единичную или наоборот, получится та же матрица Р. Поэтому матрицы будут одинаковыми, а значит и качество линейной регрессии при этом не изменится."
   ]
  },
  {
   "cell_type": "markdown",
   "metadata": {},
   "source": [
    "Параметры линейной регрессии $w$ и $w_P$ связаны следующим образом:\n",
    "$$\n",
    "w_P = ((XP)^T XP)^{-1} (XP)^T y = (P^T X^T XP)^{-1} P^T X^T y = (P)^{-1}(X^T X)^{-1} P^{T-1} P^T X^T y = (P)^{-1} (X^T X)^{-1} E X^T y = (P)^{-1} (X^T X)^{-1} X^T y = (P)^{-1} w\n",
    "$$\n",
    "\n",
    "$$\n",
    "w_P = (P)^{-1} w\n",
    "$$"
   ]
  },
  {
   "cell_type": "markdown",
   "metadata": {},
   "source": [
    "<div class=\"alert alert-success\">\n",
    "<font size=\"5\"><b>Комментарий ревьюераV3</b></font>\n",
    "\n",
    "\n",
    "\n",
    "Успех 👍:\n",
    "\n",
    "\n",
    "Теперь вижу\n",
    "\n",
    "\n",
    "\n",
    "\n",
    "</div>\n"
   ]
  },
  {
   "cell_type": "markdown",
   "metadata": {},
   "source": [
    "<div class=\"alert alert-success\">\n",
    "<font size=\"5\"><b>Комментарий ревьюераV2</b></font>\n",
    "\n",
    "\n",
    "\n",
    "Успех 👍:\n",
    "\n",
    "\n",
    "\n",
    "Теперь всё верно. \n",
    "    \n",
    "    \n",
    "Осталось вывести соотношение между $w$ и $w_p$\n",
    "    \n",
    "    \n",
    "Где   \n",
    "\n",
    "\n",
    "\n",
    "$$\n",
    "w = (X^T X)^{-1} X^T y\n",
    "$$\n",
    "    \n",
    "    \n",
    "$$\n",
    "w_P = ((XP)^T XP)^{-1} (XP)^T y\n",
    "$$    \n",
    "</div>\n"
   ]
  },
  {
   "cell_type": "markdown",
   "metadata": {},
   "source": [
    "\n",
    "\n",
    "<div class=\"alert alert-danger\">\n",
    "<font size=\"5\"><b>Комментарий ревьюера</b></font>\n",
    "\n",
    "Ошибка ❌:\n",
    "    \n",
    "1\n",
    "\n",
    "  \n",
    "Нет ответа на \"как связаны параметры линейной регрессии в исходной задаче и в преобразованной\"\n",
    "\n",
    "\n",
    "\n",
    "2\n",
    "\n",
    "  \n",
    "Направление твоего доказательства верное - берем формулу, подставляем, немножко математической магии: открываем скобки, сокращаем итп итд, как в обычной арифметике и вуаля! Вообще тут много аналогий:  в \"мире матриц\" умножив единичную матрица на вектор или матрицу получаем тот же самый вектор или матрицу, в \"мире цифр\" это как умножив число на 1, получить тоже самое число. Если умножить матрицу на обратную ей матрицу получаем единичную матрицу, точно также если умножить число на обратное ей число получаем единицу. Но есть особенности пробразований в \"мире матриц\" которые надо учитывать: обратная матрица существует только у квадратной матрицы, поэтому:  \n",
    "    \n",
    "$$\n",
    "(AB)^{-1} = B^{-1} A^{-1}\n",
    "$$\n",
    "    \n",
    "только когда у нас A и B квадратные, Может когда то в линейную алгебру введут \"мнимые матрицы\", по подобию \"мнимых чисел\" )) Но пока не ввели, поэтому перепрыгивать через этот момент не можем, это как на ноль делить\n",
    "      \n",
    "  \n",
    "А $X$ не квадратная матрица и $ XP $ не дает нам  квадратную матрицу (размерность $X$ 5000на4, размерность $P$ 4на4, значит если перемножить $XP$  получим мтарицу 5000на4 - не квадратная матрица), а если так, то обратной матрицы у ней нет, \"делим на 0\".\n",
    "\n",
    "\n",
    "А вот еще особенности преобразований в \"мире матриц\" которые не учтены:\n",
    "    \n",
    "$$\n",
    "(AB)^T=B^T A^T\n",
    "$$\n",
    "\n",
    "А ещё матрице нет цифры, поэтому мы не можем  менять их местами при умножении\n",
    "\n",
    "\n",
    "И маленькая подсказка, найди тут:\n",
    "    \n",
    "$$\n",
    "((XP)^T XP)^{-1}\n",
    "$$\n",
    "  \n",
    "    \n",
    "три квадратные матрицы."
   ]
  },
  {
   "cell_type": "markdown",
   "metadata": {},
   "source": [
    "## Алгоритм преобразования"
   ]
  },
  {
   "cell_type": "markdown",
   "metadata": {},
   "source": [
    "**Алгоритм**\n",
    "\n",
    "1) Методом np.random.normal создаем случайную матрицу\n",
    "\n",
    "2) Методом np.linalg.inv() проверяем полученную случайную матрицу на обратимость. Если ошибка не выскочила, значит наша матрица обратима, но если матрица оказалась не обратима (вероятность этого очень мала), необходимо создать новую случайную матрицу.\n",
    "\n",
    "3) Умножаем нашу матрицу признаков на случайную обратимую матрицу и получаем матрицу с закодированными данными о клиентах.\n",
    "\n",
    "После этого можно будет переходить к обучению моделей линейной регрессии."
   ]
  },
  {
   "cell_type": "markdown",
   "metadata": {},
   "source": [
    "\n",
    "<div class=\"alert alert-success\">\n",
    "<font size=\"5\"><b>Комментарий ревьюера</b></font>\n",
    "\n",
    "Успех 👍:\n",
    "\n",
    "\n",
    "Все верно.\n",
    "\n"
   ]
  },
  {
   "cell_type": "markdown",
   "metadata": {},
   "source": [
    "**Обоснование**\n",
    "\n",
    "Такой алгоритм позволит защитить персональную информацию клиентов и при этом не повлияет на качество модели (до этого мы как раз доказали, что качество модели не изменится, если матрицу признаков умножать на обратимую модель)."
   ]
  },
  {
   "cell_type": "markdown",
   "metadata": {},
   "source": [
    "## Проверка алгоритма"
   ]
  },
  {
   "cell_type": "markdown",
   "metadata": {},
   "source": [
    "**Разделим данные на признаки и целевой признак**"
   ]
  },
  {
   "cell_type": "code",
   "execution_count": 10,
   "metadata": {},
   "outputs": [],
   "source": [
    "features = data.drop(['Страховые выплаты'], axis=1)\n",
    "target = data['Страховые выплаты']"
   ]
  },
  {
   "cell_type": "code",
   "execution_count": 11,
   "metadata": {},
   "outputs": [
    {
     "name": "stdout",
     "output_type": "stream",
     "text": [
      "Признаки (4847, 4)\n",
      "Целевой признак (4847,)\n"
     ]
    }
   ],
   "source": [
    "print('Признаки', features.shape)\n",
    "print('Целевой признак', target.shape)"
   ]
  },
  {
   "cell_type": "markdown",
   "metadata": {},
   "source": [
    "Создадим матрицу признаков"
   ]
  },
  {
   "cell_type": "code",
   "execution_count": 12,
   "metadata": {},
   "outputs": [
    {
     "data": {
      "text/plain": [
       "array([[1.00e+00, 4.10e+01, 4.96e+04, 1.00e+00],\n",
       "       [0.00e+00, 4.60e+01, 3.80e+04, 1.00e+00],\n",
       "       [0.00e+00, 2.90e+01, 2.10e+04, 0.00e+00],\n",
       "       ...,\n",
       "       [0.00e+00, 2.00e+01, 3.39e+04, 2.00e+00],\n",
       "       [1.00e+00, 2.20e+01, 3.27e+04, 3.00e+00],\n",
       "       [1.00e+00, 2.80e+01, 4.06e+04, 1.00e+00]])"
      ]
     },
     "execution_count": 12,
     "metadata": {},
     "output_type": "execute_result"
    }
   ],
   "source": [
    "features_matrix = features.values\n",
    "#features_matrix.columns = features.columns\n",
    "features_matrix"
   ]
  },
  {
   "cell_type": "markdown",
   "metadata": {},
   "source": [
    "Создадим произвольную матрицу у которой длина равна ширине нашей выборки"
   ]
  },
  {
   "cell_type": "code",
   "execution_count": 13,
   "metadata": {},
   "outputs": [],
   "source": [
    "def get_rand_matrix(loc, size):\n",
    "    det = 0\n",
    "    while det == 0:\n",
    "        matrix = np.random.normal(loc = loc, size=size)\n",
    "        det = np.linalg.det(matrix)\n",
    "    return matrix"
   ]
  },
  {
   "cell_type": "markdown",
   "metadata": {},
   "source": [
    "Вызовим функцию для получения обратимой матрицы, мы знаем, что она точно обратима, т.к. функция возвращает обратимую матрицу только после ее предварительной проверки на обратимость, поэтому в случае если матрица окажется не обратимой код не остановится."
   ]
  },
  {
   "cell_type": "code",
   "execution_count": 14,
   "metadata": {},
   "outputs": [
    {
     "data": {
      "text/plain": [
       "array([[1.97048318, 2.23231837, 4.11279076, 3.56403481],\n",
       "       [2.98717603, 2.30146688, 3.0700695 , 3.15590447],\n",
       "       [2.46405753, 3.26176449, 3.23790767, 3.42913966],\n",
       "       [4.23017828, 3.526466  , 4.93598964, 3.07415597]])"
      ]
     },
     "execution_count": 14,
     "metadata": {},
     "output_type": "execute_result"
    }
   ],
   "source": [
    "random_matrix = get_rand_matrix(3, (4, 4))\n",
    "random_matrix"
   ]
  },
  {
   "cell_type": "markdown",
   "metadata": {},
   "source": [
    "Обратимая матрица имеет размер 4 * 4, потому что умножение матрицы на матрицу возможно, если ширина первой матрицы А (𝑚×𝑛) равна высоте второй матрицы В (𝑛×r). Произведение A и B даст матрицу размера m×r. Датасет, признаки которого необходимо закодировать имеет размерность 4847 * 4. Чтобы после умножения его на обратимую матрицу получить датасет такой же размерности, размерность обратимой матрицы должна быть 4 * 4."
   ]
  },
  {
   "cell_type": "markdown",
   "metadata": {},
   "source": [
    "~Проверим на обратимость полученную матрицы~"
   ]
  },
  {
   "cell_type": "code",
   "execution_count": 15,
   "metadata": {},
   "outputs": [],
   "source": [
    "#np.linalg.inv(random_matrix)"
   ]
  },
  {
   "cell_type": "markdown",
   "metadata": {},
   "source": [
    "~Ошибки не возникло, значит матрица обратима.~"
   ]
  },
  {
   "cell_type": "markdown",
   "metadata": {},
   "source": [
    "\n",
    "\n",
    "\n",
    "<div class=\"alert alert-warning\">\n",
    "<font size=\"5\"><b>Комментарий ревьюера</b></font>\n",
    "\n",
    "Совет 🤔:\n",
    "\n",
    "\n",
    "- ты проверяешь    матрицу на обратимость - отлично, но если она необратимая выскочит ошибка, код не исполнится до конца\n",
    "    \n",
    "Можно здесь было сделать похитрей - генерирум матрицу пока не получим обратимную и наш код  гарантированно полностью отработает. Добиться этого можно например так:\n",
    "\n",
    "\n",
    "    \n",
    "    def get_rand_matrix():\n",
    "        det = 0\n",
    "        while det == 0:\n",
    "            matrix = np.random.normal(size=(data.shape[1], data.shape[1]))\n",
    "            det = np.linalg.det(matrix)\n",
    "        return matrix\n",
    "\n",
    "C помощью рекурсии\n",
    "\n",
    "    def func(dim):\n",
    "        transform_matrix = np.random.rand(dim, dim)\n",
    "        try: \n",
    "            inv = np.linalg.inv(transform_matrix)\n",
    "            return transform_matrix, inv\n",
    "        except:\n",
    "            func(dim)  \n",
    "    \n",
    "\n",
    "- что насчет универсальности кода? Сейчас ты цифрой определяешь размерность случайной матрички, почему бы не написать код, который отработает для любой размерности матрицы обьект-признак?      \n",
    "    \n"
   ]
  },
  {
   "cell_type": "markdown",
   "metadata": {},
   "source": [
    "Умножим матрицу признаков на произвольную обратимую матрицу"
   ]
  },
  {
   "cell_type": "code",
   "execution_count": 16,
   "metadata": {},
   "outputs": [
    {
     "data": {
      "text/plain": [
       "array([[122345.92815495, 161883.63747684, 160735.14227805,\n",
       "        170221.35760921],\n",
       "       [ 93775.82625348, 124056.44444482, 123186.65081226,\n",
       "        130455.5529942 ],\n",
       "       [ 51831.83614525,  68563.7967645 ,  68085.09317703,\n",
       "         72103.45417397],\n",
       "       ...,\n",
       "       [ 83599.75399942, 110626.8983756 , 109836.34352999,\n",
       "        116317.10101145],\n",
       "       [ 80655.05998208, 106723.14270944, 105966.04324016,\n",
       "        112215.08341436],\n",
       "       [100130.57713497, 132497.83802526, 131554.06230532,\n",
       "        139318.07387496]])"
      ]
     },
     "execution_count": 16,
     "metadata": {},
     "output_type": "execute_result"
    }
   ],
   "source": [
    "encoded_matrix = features_matrix @ random_matrix\n",
    "encoded_matrix"
   ]
  },
  {
   "cell_type": "markdown",
   "metadata": {},
   "source": [
    "### Исходные данные"
   ]
  },
  {
   "cell_type": "markdown",
   "metadata": {},
   "source": [
    "**Выделим тестовую и тренировочную выбрки**"
   ]
  },
  {
   "cell_type": "code",
   "execution_count": 17,
   "metadata": {},
   "outputs": [],
   "source": [
    "train_features, test_features, train_target, test_target = train_test_split(features, target, test_size=0.25, random_state=42)"
   ]
  },
  {
   "cell_type": "markdown",
   "metadata": {},
   "source": [
    "<div class=\"alert alert-success\">\n",
    "<font size=\"5\"><b>Комментарий ревьюера</b></font>\n",
    "\n",
    "Успех 👍:\n",
    "\n",
    "Все правильно, помним о стандартах ML при моделировании\n",
    "\n",
    "\n",
    "<div>\n",
    "\n"
   ]
  },
  {
   "cell_type": "markdown",
   "metadata": {},
   "source": [
    "Посмотрим размеры получившихся выборок:"
   ]
  },
  {
   "cell_type": "code",
   "execution_count": 18,
   "metadata": {},
   "outputs": [
    {
     "name": "stdout",
     "output_type": "stream",
     "text": [
      "Размер тренировочной выборки: features = (3635, 4); target = (3635,)\n",
      "Размер тестовой выборки: features = (1212, 4); target = (1212,)\n"
     ]
    }
   ],
   "source": [
    "print(f'Размер тренировочной выборки: features = {train_features.shape}; target = {train_target.shape}')\n",
    "print(f'Размер тестовой выборки: features = {test_features.shape}; target = {test_target.shape}')"
   ]
  },
  {
   "cell_type": "code",
   "execution_count": 19,
   "metadata": {},
   "outputs": [],
   "source": [
    "class LinearRegressionBefore:\n",
    "    def fit(self, train_features, train_target):\n",
    "        X = np.concatenate((np.ones((train_features.shape[0], 1)), train_features), axis=1)\n",
    "        y = train_target\n",
    "        w = (np.linalg.inv(X.T.dot(X)).dot(X.T)).dot(y)\n",
    "        self.w = w[1:]\n",
    "        self.w0 = w[0]\n",
    "\n",
    "    def predict(self, test_features):\n",
    "        return test_features.dot(self.w) + self.w0"
   ]
  },
  {
   "cell_type": "markdown",
   "metadata": {},
   "source": [
    "Вычислим значения R2 и MSE для предсказанных значений по изначальным данным"
   ]
  },
  {
   "cell_type": "code",
   "execution_count": 20,
   "metadata": {},
   "outputs": [
    {
     "name": "stdout",
     "output_type": "stream",
     "text": [
      "R2_score: 0.44346330831611946\n",
      "MSE: 0.1341509148078507\n"
     ]
    }
   ],
   "source": [
    "model_before = LinearRegressionBefore()\n",
    "model_before.fit(train_features, train_target)\n",
    "predict_before = model_before.predict(test_features)\n",
    "\n",
    "r2_score_before = r2_score(test_target, predict_before)\n",
    "mse_before = mean_squared_error(predict_before, test_target)\n",
    "\n",
    "print(\"R2_score:\", r2_score_before)\n",
    "print(\"MSE:\", mse_before)"
   ]
  },
  {
   "cell_type": "markdown",
   "metadata": {},
   "source": [
    "### Преобразованные данные"
   ]
  },
  {
   "cell_type": "markdown",
   "metadata": {},
   "source": [
    "**Выделим тестовую и тренировочную выбрки у преобразованных данных**"
   ]
  },
  {
   "cell_type": "code",
   "execution_count": 21,
   "metadata": {},
   "outputs": [],
   "source": [
    "train_features_encoded, test_features_encoded, train_target_encoded, test_target_encoded = train_test_split(\n",
    "    encoded_matrix, target, test_size=0.25, random_state=42)"
   ]
  },
  {
   "cell_type": "markdown",
   "metadata": {},
   "source": [
    "Посмотрим размеры получившихся преобразованных выборок:"
   ]
  },
  {
   "cell_type": "code",
   "execution_count": 22,
   "metadata": {},
   "outputs": [
    {
     "name": "stdout",
     "output_type": "stream",
     "text": [
      "Размер тренировочной преобразованной выборки: features = (3635, 4); target = (3635,)\n",
      "Размер тестовой преобразованной выборки: features = (1212, 4); target = (1212,)\n"
     ]
    }
   ],
   "source": [
    "print(f'Размер тренировочной преобразованной выборки: features = {train_features_encoded.shape}; target = {train_target_encoded.shape}')\n",
    "print(f'Размер тестовой преобразованной выборки: features = {test_features_encoded.shape}; target = {test_target_encoded.shape}')"
   ]
  },
  {
   "cell_type": "code",
   "execution_count": 23,
   "metadata": {},
   "outputs": [],
   "source": [
    "class LinearRegressionAfter:\n",
    "    def fit(self, train_features_encoded, train_target_encoded):\n",
    "        X = np.concatenate((np.ones((train_features_encoded.shape[0], 1)), train_features_encoded), axis=1)\n",
    "        y = train_target_encoded\n",
    "        w = ((np.linalg.inv(X.T.dot(X))).dot(X.T)).dot(y)\n",
    "        self.w = w[1:]\n",
    "        self.w0 = w[0]\n",
    "\n",
    "    def predict(self, test_features_encoded):\n",
    "        return test_features_encoded.dot(self.w) + self.w0"
   ]
  },
  {
   "cell_type": "markdown",
   "metadata": {},
   "source": [
    "<div class=\"alert alert-warning\">\n",
    "<font size=\"5\"><b>Комментарий ревьюера</b></font>\n",
    "\n",
    "\n",
    "\n",
    "Совет 🤔:\n",
    "\n",
    "\n",
    "А зачем нам 2 класса  LinearRegressionAfter и LinearRegressionBefore. Это они делают одно и тоже,  просто мы им подаём разные данные\n",
    "</div>\n"
   ]
  },
  {
   "cell_type": "markdown",
   "metadata": {},
   "source": [
    "Вычислим значения R2 и MSE для предсказанных значений по преобразованным данным"
   ]
  },
  {
   "cell_type": "code",
   "execution_count": 24,
   "metadata": {},
   "outputs": [
    {
     "name": "stdout",
     "output_type": "stream",
     "text": [
      "R2_score: 0.4434632853054763\n",
      "MSE: 0.134150920354473\n"
     ]
    }
   ],
   "source": [
    "model_after = LinearRegressionAfter()\n",
    "model_after.fit(train_features_encoded, train_target_encoded)\n",
    "predict_after = model_after.predict(test_features_encoded)\n",
    "\n",
    "r2_score_after = r2_score(test_target_encoded, predict_after)\n",
    "mse_after = mean_squared_error(predict_after, test_target_encoded)\n",
    "\n",
    "print(\"R2_score:\", r2_score_after)\n",
    "print(\"MSE:\", mse_after)"
   ]
  },
  {
   "cell_type": "markdown",
   "metadata": {},
   "source": [
    "**Сравним изменилось ли качество линейной регрессии до и после преобразования?**"
   ]
  },
  {
   "cell_type": "code",
   "execution_count": 25,
   "metadata": {},
   "outputs": [
    {
     "data": {
      "text/html": [
       "<div>\n",
       "<style scoped>\n",
       "    .dataframe tbody tr th:only-of-type {\n",
       "        vertical-align: middle;\n",
       "    }\n",
       "\n",
       "    .dataframe tbody tr th {\n",
       "        vertical-align: top;\n",
       "    }\n",
       "\n",
       "    .dataframe thead th {\n",
       "        text-align: right;\n",
       "    }\n",
       "</style>\n",
       "<table border=\"1\" class=\"dataframe\">\n",
       "  <thead>\n",
       "    <tr style=\"text-align: right;\">\n",
       "      <th></th>\n",
       "      <th>R2_score</th>\n",
       "      <th>MSE</th>\n",
       "    </tr>\n",
       "  </thead>\n",
       "  <tbody>\n",
       "    <tr>\n",
       "      <th>Неизменённая матрица</th>\n",
       "      <td>0.443463</td>\n",
       "      <td>0.134151</td>\n",
       "    </tr>\n",
       "    <tr>\n",
       "      <th>Изменённая матрица</th>\n",
       "      <td>0.443463</td>\n",
       "      <td>0.134151</td>\n",
       "    </tr>\n",
       "  </tbody>\n",
       "</table>\n",
       "</div>"
      ],
      "text/plain": [
       "                      R2_score       MSE\n",
       "Неизменённая матрица  0.443463  0.134151\n",
       "Изменённая матрица    0.443463  0.134151"
      ]
     },
     "execution_count": 25,
     "metadata": {},
     "output_type": "execute_result"
    }
   ],
   "source": [
    "rezult = pd.DataFrame(index=['R2_score','MSE'], columns=['Неизменённая матрица', 'Изменённая матрица'])\n",
    "rezult['Неизменённая матрица'] = r2_score_before, mse_before\n",
    "rezult['Изменённая матрица'] = r2_score_after, mse_after\n",
    "\n",
    "rezult.T"
   ]
  },
  {
   "cell_type": "markdown",
   "metadata": {},
   "source": [
    "Метрики почти идентичны, а это значит, что качество модели линейной регрессии после преобразования данных не изменилось."
   ]
  },
  {
   "cell_type": "markdown",
   "metadata": {},
   "source": [
    "\n",
    "\n",
    "<div class=\"alert alert-success\">\n",
    "<font size=\"5\"><b>Комментарий ревьюера</b></font>\n",
    "\n",
    "Успех 👍:\n",
    "    \n",
    "Все сошлось. Отдельный плюс за: \n",
    "    \n",
    "    \n",
    "\n",
    "- использование train_test_split - все правильно, помним о стандартах ML при моделировании\n",
    "\n",
    "  \n",
    " \n",
    "\n",
    "\n",
    "- использование class LinearRegression, а не готовую библиотечку, где все скрыто, а так все видно и наглядно что полезно при обучении\n",
    "\n",
    "<div class=\"alert alert-warning\">\n",
    "\n",
    "\n",
    "Совет 🤔: \n",
    "    \n",
    "   \n",
    "    \n",
    "    \n",
    "- `.dot()` отработает нормально, но лучше сразу использовать `.matmul()`, или `@`, с ними матричное умножение будет корректным и для матриц размерностью > 2.        \n",
    "\n",
    "    "
   ]
  },
  {
   "cell_type": "markdown",
   "metadata": {},
   "source": [
    "## Вывод:\n",
    "1) Ознакомились с данными, проверили на наличие пропусков, аномалий и дубликатов, пропусков и аномалий не было, а дубликатов было не много поэтому мы их удалили, также посмотрели на зависимость между признаками.\n",
    "\n",
    "2) Ответили на вопрос, что качество линейной регрессии не изменится если признаки умножить на обратимую матрицу, доказав это теоритическим доказательством(так как если любую матрицу Р умножить на единичную или наоборот, получится та же матрица Р).\n",
    "\n",
    "3) Составили алгоритм преобразования, по которому в следующем пункте преобразовали данные.\n",
    "\n",
    "4) Сначало подготовили все данные для построения модели: разделили данные на признаки и целевой признак, записали признаки в матрицу признаков, написали функцию для получения рандомной обратимой матрицы, чтобы в случае если бы матрица оказалось не обратимой код не остановился, умножали матрицу признаков на обратимую случайную матрицу. Затем по исходным данным получили качество модели: веделили тренировую и тестовую выборки по исходным данным, построили класс для подсчета метрик r2_score и mse, затем все тоже самое сделали для преобразованных данных. Качество модели по исходным и преобразованным данным почти в точности совпадают(ниже табличка с результатами).\n",
    " \n",
    "В результате мы разработали такой метод преобразования данных, чтобы по ним было сложно восстановить персональную информацию, и при этом нужно было защитить данные, чтобы при преобразовании качество моделей машинного обучения не ухудшилось, чего мы и достигли. \n",
    "Таким образом мы выполнили требования поставелнной задачи страхавой компании «Хоть потоп»."
   ]
  },
  {
   "cell_type": "code",
   "execution_count": 26,
   "metadata": {
    "scrolled": true
   },
   "outputs": [
    {
     "data": {
      "text/html": [
       "<div>\n",
       "<style scoped>\n",
       "    .dataframe tbody tr th:only-of-type {\n",
       "        vertical-align: middle;\n",
       "    }\n",
       "\n",
       "    .dataframe tbody tr th {\n",
       "        vertical-align: top;\n",
       "    }\n",
       "\n",
       "    .dataframe thead th {\n",
       "        text-align: right;\n",
       "    }\n",
       "</style>\n",
       "<table border=\"1\" class=\"dataframe\">\n",
       "  <thead>\n",
       "    <tr style=\"text-align: right;\">\n",
       "      <th></th>\n",
       "      <th>R2_score</th>\n",
       "      <th>MSE</th>\n",
       "    </tr>\n",
       "  </thead>\n",
       "  <tbody>\n",
       "    <tr>\n",
       "      <th>Неизменённая матрица</th>\n",
       "      <td>0.443463</td>\n",
       "      <td>0.134151</td>\n",
       "    </tr>\n",
       "    <tr>\n",
       "      <th>Изменённая матрица</th>\n",
       "      <td>0.443463</td>\n",
       "      <td>0.134151</td>\n",
       "    </tr>\n",
       "  </tbody>\n",
       "</table>\n",
       "</div>"
      ],
      "text/plain": [
       "                      R2_score       MSE\n",
       "Неизменённая матрица  0.443463  0.134151\n",
       "Изменённая матрица    0.443463  0.134151"
      ]
     },
     "execution_count": 26,
     "metadata": {},
     "output_type": "execute_result"
    }
   ],
   "source": [
    "rezult.T"
   ]
  },
  {
   "cell_type": "markdown",
   "metadata": {},
   "source": [
    "<div class=\"alert alert-success\">\n",
    "<font size=\"5\"><b>Комментарий ревьюераV2</b></font>\n",
    "\n",
    "Успех 👍:\n",
    "\n",
    "Общий вывод расписан и структрирован по логическим блокам проекта. Отлично\n",
    "    \n",
    "    \n",
    " \n",
    "</div>"
   ]
  },
  {
   "cell_type": "markdown",
   "metadata": {},
   "source": [
    "\n",
    "\n",
    "<div class=\"alert alert-danger\">\n",
    "<font size=\"5\"><b>Комментарий ревьюера</b></font>\n",
    "\n",
    "Ошибка ❌:\n",
    "\n",
    "Дмитрий, было бы замечательно, в конце немножко о данных, работе с ними, моделировании и полученных результатах, доказательствах. Это важно потому что когда проект захочет посмотреть будущий работодатель (или начальник), у него может не быть времени на подробный разбор кода. Вероятнее всего он бегло просмотрит код, а из общего вывода захочет получить представление о всей работе. Вырабатывай рефлексы правильного формления проектов )\n",
    "\n",
    "\n",
    "</div>"
   ]
  },
  {
   "cell_type": "markdown",
   "metadata": {},
   "source": [
    "\n",
    "<div class=\"alert alert-info\">\n",
    "<font size=\"5\"><b>Комментарий ревьюера</b></font>\n",
    "\n",
    "\n",
    "Дмитрий, у тебя старательно выполненная работа, все четко, осмысленно. Отмечаю уровень твоей программистской подготовки. \n",
    "\n",
    "\n",
    "\n",
    "    \n",
    "Замечания на будущее, напоминалочка:\n",
    "    \n",
    "\n",
    "\n",
    "- Комментарии к коду отсутствуют - коллеги могут не понять хода твоих мыслей. Пока код простой, но дальше он будет усложняться и рефлекс в нужных местах оставлять пояснения можно начать отрабатывать уже сейчас )\n",
    "    \n",
    "\n",
    "\n",
    "Я оставил небольшие советы и вопросики (если есть время и желание можешь воспользоваться/ответить)\n",
    "    \n",
    "\n",
    "\n",
    "Обязательное к исправлению:\n",
    "\n",
    "\n",
    "\n",
    "    \n",
    "- дорабатываем теоретическое доказательство, с учетом моих комментариев   \n",
    "\n",
    "\n",
    "    \n",
    "- рекомендую добавить общий вывод (лицо проекта)\n",
    "\n",
    "\n",
    "\n",
    "Жду исправлений, для принятия проекта. Если какие то вопросы, то сразу спрашивай ) \n",
    "\n",
    "</div>\n",
    "\n"
   ]
  },
  {
   "cell_type": "markdown",
   "metadata": {},
   "source": [
    "\n",
    "<div class=\"alert alert-info\">\n",
    "<font size=\"5\"><b>Комментарий ревьюераV2</b></font>\n",
    "\n",
    "Спасибо за работу!    \n",
    "\n",
    "    \n",
    "\n",
    "\n",
    "Что осталось из красного:\n",
    "\n",
    " \n",
    "вывести соотношение между  𝑤  и  𝑤𝑝\n",
    "    \n",
    "    \n",
    "На связи    "
   ]
  },
  {
   "cell_type": "markdown",
   "metadata": {},
   "source": [
    "\n",
    "<div class=\"alert alert-info\">\n",
    "<font size=\"5\"><b>Комментарий ревьюераV3</b></font>\n",
    "\n",
    "Спасибо за работу!    \n",
    "\n",
    "    \n",
    "\n",
    "Больше вопросов меня нет. Отличная работа Дмитрий. Желаю успехов в дальнейшей учебе!\n"
   ]
  },
  {
   "cell_type": "markdown",
   "metadata": {},
   "source": [
    "## Чек-лист проверки"
   ]
  },
  {
   "cell_type": "markdown",
   "metadata": {},
   "source": [
    "Поставьте 'x' в выполненных пунктах. Далее нажмите Shift+Enter."
   ]
  },
  {
   "cell_type": "markdown",
   "metadata": {},
   "source": [
    "- [x]  Jupyter Notebook открыт\n",
    "- [x]  Весь код выполняется без ошибок\n",
    "- [x]  Ячейки с кодом расположены в порядке исполнения\n",
    "- [x]  Выполнен шаг 1: данные загружены\n",
    "- [x]  Выполнен шаг 2: получен ответ на вопрос об умножении матриц\n",
    "    - [x]  Указан правильный вариант ответа\n",
    "    - [x]  Вариант обоснован\n",
    "- [x]  Выполнен шаг 3: предложен алгоритм преобразования\n",
    "    - [x]  Алгоритм описан\n",
    "    - [x]  Алгоритм обоснован\n",
    "- [x]  Выполнен шаг 4: алгоритм проверен\n",
    "    - [x]  Алгоритм реализован\n",
    "    - [x]  Проведено сравнение качества моделей до и после преобразования"
   ]
  },
  {
   "cell_type": "code",
   "execution_count": null,
   "metadata": {},
   "outputs": [],
   "source": []
  }
 ],
 "metadata": {
  "ExecuteTimeLog": [
   {
    "duration": 64,
    "start_time": "2022-12-16T14:57:51.742Z"
   },
   {
    "duration": 1695,
    "start_time": "2022-12-16T14:57:55.582Z"
   },
   {
    "duration": 106,
    "start_time": "2022-12-16T14:57:57.677Z"
   },
   {
    "duration": 97,
    "start_time": "2022-12-16T14:58:23.989Z"
   },
   {
    "duration": 13,
    "start_time": "2022-12-16T14:58:53.027Z"
   },
   {
    "duration": 25,
    "start_time": "2022-12-16T14:59:05.021Z"
   },
   {
    "duration": 7,
    "start_time": "2022-12-16T15:01:55.370Z"
   },
   {
    "duration": 9,
    "start_time": "2022-12-16T15:02:19.279Z"
   },
   {
    "duration": 457,
    "start_time": "2022-12-16T15:02:57.598Z"
   },
   {
    "duration": 952,
    "start_time": "2022-12-16T15:05:19.242Z"
   },
   {
    "duration": 810,
    "start_time": "2022-12-16T15:05:36.769Z"
   },
   {
    "duration": 959,
    "start_time": "2022-12-16T15:06:03.066Z"
   },
   {
    "duration": 852,
    "start_time": "2022-12-16T15:06:22.760Z"
   },
   {
    "duration": 830,
    "start_time": "2022-12-16T15:06:38.355Z"
   },
   {
    "duration": 918,
    "start_time": "2022-12-16T15:07:07.242Z"
   },
   {
    "duration": 898,
    "start_time": "2022-12-16T15:07:15.553Z"
   },
   {
    "duration": 4,
    "start_time": "2022-12-16T15:21:04.538Z"
   },
   {
    "duration": 6,
    "start_time": "2022-12-16T15:21:05.964Z"
   },
   {
    "duration": 4,
    "start_time": "2022-12-16T15:21:06.753Z"
   },
   {
    "duration": 4,
    "start_time": "2022-12-16T15:21:52.105Z"
   },
   {
    "duration": 3,
    "start_time": "2022-12-16T15:22:03.570Z"
   },
   {
    "duration": 3,
    "start_time": "2022-12-16T15:22:43.553Z"
   },
   {
    "duration": 7,
    "start_time": "2022-12-16T15:58:48.289Z"
   },
   {
    "duration": 376,
    "start_time": "2022-12-16T15:59:18.125Z"
   },
   {
    "duration": 489,
    "start_time": "2022-12-16T15:59:36.698Z"
   },
   {
    "duration": 54,
    "start_time": "2022-12-17T09:45:15.123Z"
   },
   {
    "duration": 1726,
    "start_time": "2022-12-17T09:45:21.841Z"
   },
   {
    "duration": 92,
    "start_time": "2022-12-17T09:45:23.569Z"
   },
   {
    "duration": 35,
    "start_time": "2022-12-17T09:45:23.663Z"
   },
   {
    "duration": 31,
    "start_time": "2022-12-17T09:45:23.700Z"
   },
   {
    "duration": 8,
    "start_time": "2022-12-17T09:45:23.733Z"
   },
   {
    "duration": 8,
    "start_time": "2022-12-17T09:45:24.076Z"
   },
   {
    "duration": 9,
    "start_time": "2022-12-17T09:45:24.481Z"
   },
   {
    "duration": 999,
    "start_time": "2022-12-17T09:45:24.792Z"
   },
   {
    "duration": 446,
    "start_time": "2022-12-17T09:45:25.793Z"
   },
   {
    "duration": 4,
    "start_time": "2022-12-17T09:45:26.241Z"
   },
   {
    "duration": 5,
    "start_time": "2022-12-17T09:45:26.874Z"
   },
   {
    "duration": 4,
    "start_time": "2022-12-17T09:45:27.664Z"
   },
   {
    "duration": 91,
    "start_time": "2022-12-17T09:45:30.641Z"
   },
   {
    "duration": 10,
    "start_time": "2022-12-17T09:45:53.361Z"
   },
   {
    "duration": 11,
    "start_time": "2022-12-17T09:50:41.191Z"
   },
   {
    "duration": 6,
    "start_time": "2022-12-17T09:59:59.640Z"
   },
   {
    "duration": 5,
    "start_time": "2022-12-17T10:00:10.273Z"
   },
   {
    "duration": 13,
    "start_time": "2022-12-17T10:00:22.912Z"
   },
   {
    "duration": 7,
    "start_time": "2022-12-17T10:01:32.523Z"
   },
   {
    "duration": 13,
    "start_time": "2022-12-17T10:03:44.192Z"
   },
   {
    "duration": 9,
    "start_time": "2022-12-17T10:04:07.960Z"
   },
   {
    "duration": 11,
    "start_time": "2022-12-17T10:04:14.751Z"
   },
   {
    "duration": 12,
    "start_time": "2022-12-17T10:05:23.312Z"
   },
   {
    "duration": 13,
    "start_time": "2022-12-17T10:09:36.029Z"
   },
   {
    "duration": 51,
    "start_time": "2022-12-17T17:20:20.681Z"
   },
   {
    "duration": 1579,
    "start_time": "2022-12-17T17:20:34.441Z"
   },
   {
    "duration": 86,
    "start_time": "2022-12-17T17:20:36.022Z"
   },
   {
    "duration": 26,
    "start_time": "2022-12-17T17:20:36.109Z"
   },
   {
    "duration": 12,
    "start_time": "2022-12-17T17:20:36.138Z"
   },
   {
    "duration": 10,
    "start_time": "2022-12-17T17:20:36.362Z"
   },
   {
    "duration": 7,
    "start_time": "2022-12-17T17:20:36.842Z"
   },
   {
    "duration": 10,
    "start_time": "2022-12-17T17:20:37.329Z"
   },
   {
    "duration": 951,
    "start_time": "2022-12-17T17:20:37.809Z"
   },
   {
    "duration": 461,
    "start_time": "2022-12-17T17:20:38.762Z"
   },
   {
    "duration": 4,
    "start_time": "2022-12-17T17:20:39.225Z"
   },
   {
    "duration": 6,
    "start_time": "2022-12-17T17:20:39.889Z"
   },
   {
    "duration": 3,
    "start_time": "2022-12-17T17:20:40.842Z"
   },
   {
    "duration": 9,
    "start_time": "2022-12-17T17:20:43.730Z"
   },
   {
    "duration": 5,
    "start_time": "2022-12-17T17:20:45.258Z"
   },
   {
    "duration": 5,
    "start_time": "2022-12-17T17:20:46.370Z"
   },
   {
    "duration": 10,
    "start_time": "2022-12-17T17:20:47.564Z"
   },
   {
    "duration": 10,
    "start_time": "2022-12-17T17:20:48.849Z"
   },
   {
    "duration": 10,
    "start_time": "2022-12-17T17:20:50.281Z"
   },
   {
    "duration": 4,
    "start_time": "2022-12-17T17:20:54.201Z"
   },
   {
    "duration": 5,
    "start_time": "2022-12-17T17:20:54.617Z"
   },
   {
    "duration": 5,
    "start_time": "2022-12-17T17:20:55.402Z"
   },
   {
    "duration": 10,
    "start_time": "2022-12-17T17:20:55.985Z"
   },
   {
    "duration": 10,
    "start_time": "2022-12-17T17:20:56.618Z"
   },
   {
    "duration": 4,
    "start_time": "2022-12-17T17:20:57.249Z"
   },
   {
    "duration": 4,
    "start_time": "2022-12-17T17:20:57.802Z"
   },
   {
    "duration": 3,
    "start_time": "2022-12-17T17:20:58.373Z"
   },
   {
    "duration": 6,
    "start_time": "2022-12-17T17:20:58.841Z"
   },
   {
    "duration": 6,
    "start_time": "2022-12-17T17:20:59.409Z"
   },
   {
    "duration": 9,
    "start_time": "2022-12-17T17:52:05.090Z"
   },
   {
    "duration": 10,
    "start_time": "2022-12-17T17:57:15.402Z"
   },
   {
    "duration": 57,
    "start_time": "2022-12-17T20:44:38.220Z"
   },
   {
    "duration": 1555,
    "start_time": "2022-12-17T20:44:45.980Z"
   },
   {
    "duration": 119,
    "start_time": "2022-12-17T20:44:47.537Z"
   },
   {
    "duration": 34,
    "start_time": "2022-12-17T20:44:47.658Z"
   },
   {
    "duration": 17,
    "start_time": "2022-12-17T20:44:47.694Z"
   },
   {
    "duration": 10,
    "start_time": "2022-12-17T20:44:47.712Z"
   },
   {
    "duration": 6,
    "start_time": "2022-12-17T20:44:47.740Z"
   },
   {
    "duration": 11,
    "start_time": "2022-12-17T20:44:48.140Z"
   },
   {
    "duration": 890,
    "start_time": "2022-12-17T20:44:48.700Z"
   },
   {
    "duration": 497,
    "start_time": "2022-12-17T20:44:49.592Z"
   },
   {
    "duration": 70,
    "start_time": "2022-12-17T20:45:17.100Z"
   },
   {
    "duration": 406,
    "start_time": "2022-12-17T20:45:25.735Z"
   },
   {
    "duration": 394,
    "start_time": "2022-12-17T20:45:47.172Z"
   },
   {
    "duration": 374,
    "start_time": "2022-12-17T20:45:57.901Z"
   },
   {
    "duration": 78,
    "start_time": "2022-12-17T20:49:39.987Z"
   },
   {
    "duration": 4,
    "start_time": "2022-12-17T20:49:46.451Z"
   },
   {
    "duration": 6,
    "start_time": "2022-12-17T20:49:47.091Z"
   },
   {
    "duration": 4,
    "start_time": "2022-12-17T20:49:47.739Z"
   },
   {
    "duration": 12,
    "start_time": "2022-12-17T20:49:54.541Z"
   },
   {
    "duration": 4,
    "start_time": "2022-12-17T20:49:56.135Z"
   },
   {
    "duration": 9,
    "start_time": "2022-12-17T20:49:58.691Z"
   },
   {
    "duration": 10,
    "start_time": "2022-12-17T20:49:59.812Z"
   },
   {
    "duration": 12,
    "start_time": "2022-12-17T20:50:00.611Z"
   },
   {
    "duration": 9,
    "start_time": "2022-12-17T20:50:01.740Z"
   },
   {
    "duration": 9,
    "start_time": "2022-12-17T20:50:05.892Z"
   },
   {
    "duration": 5,
    "start_time": "2022-12-17T20:50:07.179Z"
   },
   {
    "duration": 6,
    "start_time": "2022-12-17T20:50:08.940Z"
   },
   {
    "duration": 13,
    "start_time": "2022-12-17T20:50:09.338Z"
   },
   {
    "duration": 12,
    "start_time": "2022-12-17T20:50:09.893Z"
   },
   {
    "duration": 4,
    "start_time": "2022-12-17T20:50:10.300Z"
   },
   {
    "duration": 4,
    "start_time": "2022-12-17T20:50:10.620Z"
   },
   {
    "duration": 3,
    "start_time": "2022-12-17T20:50:10.936Z"
   },
   {
    "duration": 5,
    "start_time": "2022-12-17T20:50:11.251Z"
   },
   {
    "duration": 5,
    "start_time": "2022-12-17T20:50:11.651Z"
   },
   {
    "duration": 11,
    "start_time": "2022-12-17T20:56:05.578Z"
   },
   {
    "duration": 17,
    "start_time": "2022-12-17T20:56:20.858Z"
   },
   {
    "duration": 10,
    "start_time": "2022-12-17T20:56:31.569Z"
   },
   {
    "duration": 1907,
    "start_time": "2022-12-18T09:15:44.571Z"
   },
   {
    "duration": 83,
    "start_time": "2022-12-18T09:15:46.479Z"
   },
   {
    "duration": 21,
    "start_time": "2022-12-18T09:15:46.564Z"
   },
   {
    "duration": 10,
    "start_time": "2022-12-18T09:15:46.586Z"
   },
   {
    "duration": 7,
    "start_time": "2022-12-18T09:15:46.598Z"
   },
   {
    "duration": 6,
    "start_time": "2022-12-18T09:15:46.606Z"
   },
   {
    "duration": 7,
    "start_time": "2022-12-18T09:15:46.733Z"
   },
   {
    "duration": 757,
    "start_time": "2022-12-18T09:15:47.125Z"
   },
   {
    "duration": 408,
    "start_time": "2022-12-18T09:15:47.884Z"
   },
   {
    "duration": 4,
    "start_time": "2022-12-18T09:15:48.297Z"
   },
   {
    "duration": 5,
    "start_time": "2022-12-18T09:15:48.995Z"
   },
   {
    "duration": 4,
    "start_time": "2022-12-18T09:15:49.774Z"
   },
   {
    "duration": 10,
    "start_time": "2022-12-18T09:15:52.195Z"
   },
   {
    "duration": 4,
    "start_time": "2022-12-18T09:15:53.337Z"
   },
   {
    "duration": 5,
    "start_time": "2022-12-18T09:15:54.012Z"
   },
   {
    "duration": 10,
    "start_time": "2022-12-18T09:15:54.997Z"
   },
   {
    "duration": 10,
    "start_time": "2022-12-18T09:15:55.675Z"
   },
   {
    "duration": 8,
    "start_time": "2022-12-18T09:15:56.343Z"
   },
   {
    "duration": 10,
    "start_time": "2022-12-18T09:15:58.618Z"
   },
   {
    "duration": 5,
    "start_time": "2022-12-18T09:15:59.051Z"
   },
   {
    "duration": 4,
    "start_time": "2022-12-18T09:15:59.427Z"
   },
   {
    "duration": 9,
    "start_time": "2022-12-18T09:15:59.809Z"
   },
   {
    "duration": 9,
    "start_time": "2022-12-18T09:16:00.163Z"
   },
   {
    "duration": 3,
    "start_time": "2022-12-18T09:16:00.518Z"
   },
   {
    "duration": 4,
    "start_time": "2022-12-18T09:16:00.917Z"
   },
   {
    "duration": 3,
    "start_time": "2022-12-18T09:16:01.298Z"
   },
   {
    "duration": 3,
    "start_time": "2022-12-18T09:16:01.625Z"
   },
   {
    "duration": 6,
    "start_time": "2022-12-18T09:16:02.115Z"
   },
   {
    "duration": 4,
    "start_time": "2022-12-18T12:46:05.367Z"
   },
   {
    "duration": 7,
    "start_time": "2022-12-18T12:46:07.044Z"
   },
   {
    "duration": 1337,
    "start_time": "2022-12-18T13:14:48.818Z"
   },
   {
    "duration": 38,
    "start_time": "2022-12-18T13:14:50.157Z"
   },
   {
    "duration": 23,
    "start_time": "2022-12-18T13:14:50.196Z"
   },
   {
    "duration": 11,
    "start_time": "2022-12-18T13:14:50.221Z"
   },
   {
    "duration": 7,
    "start_time": "2022-12-18T13:14:50.234Z"
   },
   {
    "duration": 9,
    "start_time": "2022-12-18T13:14:50.242Z"
   },
   {
    "duration": 13,
    "start_time": "2022-12-18T13:14:50.252Z"
   },
   {
    "duration": 834,
    "start_time": "2022-12-18T13:14:50.267Z"
   },
   {
    "duration": 368,
    "start_time": "2022-12-18T13:14:51.103Z"
   },
   {
    "duration": 2,
    "start_time": "2022-12-18T13:14:51.473Z"
   },
   {
    "duration": 6,
    "start_time": "2022-12-18T13:14:51.476Z"
   },
   {
    "duration": 13,
    "start_time": "2022-12-18T13:14:51.484Z"
   },
   {
    "duration": 5,
    "start_time": "2022-12-18T13:14:51.498Z"
   },
   {
    "duration": 4,
    "start_time": "2022-12-18T13:14:51.506Z"
   },
   {
    "duration": 11,
    "start_time": "2022-12-18T13:14:51.511Z"
   },
   {
    "duration": 6,
    "start_time": "2022-12-18T13:14:51.523Z"
   },
   {
    "duration": 6,
    "start_time": "2022-12-18T13:14:51.530Z"
   },
   {
    "duration": 7,
    "start_time": "2022-12-18T13:14:51.538Z"
   },
   {
    "duration": 8,
    "start_time": "2022-12-18T13:14:51.546Z"
   },
   {
    "duration": 6,
    "start_time": "2022-12-18T13:14:51.555Z"
   },
   {
    "duration": 37,
    "start_time": "2022-12-18T13:14:51.562Z"
   },
   {
    "duration": 13,
    "start_time": "2022-12-18T13:14:51.601Z"
   },
   {
    "duration": 84,
    "start_time": "2022-12-18T13:14:51.616Z"
   },
   {
    "duration": 15,
    "start_time": "2022-12-18T13:14:51.702Z"
   },
   {
    "duration": 80,
    "start_time": "2022-12-18T13:14:51.719Z"
   },
   {
    "duration": 6,
    "start_time": "2022-12-18T13:14:51.802Z"
   },
   {
    "duration": 96,
    "start_time": "2022-12-18T13:14:51.809Z"
   },
   {
    "duration": 6,
    "start_time": "2022-12-18T13:14:51.907Z"
   },
   {
    "duration": 83,
    "start_time": "2022-12-18T13:14:51.915Z"
   },
   {
    "duration": 7,
    "start_time": "2022-12-18T13:14:52.001Z"
   },
   {
    "duration": 90,
    "start_time": "2022-12-18T13:14:52.010Z"
   },
   {
    "duration": 11,
    "start_time": "2022-12-18T13:14:52.101Z"
   },
   {
    "duration": 5,
    "start_time": "2022-12-18T13:14:52.114Z"
   },
   {
    "duration": 9,
    "start_time": "2022-12-18T13:14:52.121Z"
   },
   {
    "duration": 7,
    "start_time": "2022-12-18T13:14:52.131Z"
   },
   {
    "duration": 8,
    "start_time": "2022-12-18T13:14:52.139Z"
   },
   {
    "duration": 6,
    "start_time": "2022-12-18T13:16:25.954Z"
   },
   {
    "duration": 3,
    "start_time": "2022-12-18T13:16:27.514Z"
   },
   {
    "duration": 4,
    "start_time": "2022-12-18T13:16:28.306Z"
   },
   {
    "duration": 8,
    "start_time": "2022-12-18T13:16:28.959Z"
   },
   {
    "duration": 5,
    "start_time": "2022-12-18T13:16:31.420Z"
   },
   {
    "duration": 4,
    "start_time": "2022-12-18T13:16:32.588Z"
   },
   {
    "duration": 4,
    "start_time": "2022-12-18T13:16:33.401Z"
   },
   {
    "duration": 6,
    "start_time": "2022-12-18T13:16:34.215Z"
   },
   {
    "duration": 3,
    "start_time": "2022-12-18T13:16:34.841Z"
   },
   {
    "duration": 106,
    "start_time": "2022-12-18T13:21:49.886Z"
   },
   {
    "duration": 5,
    "start_time": "2022-12-18T13:22:09.958Z"
   },
   {
    "duration": 10,
    "start_time": "2022-12-18T13:47:08.666Z"
   },
   {
    "duration": 1304,
    "start_time": "2022-12-18T15:12:02.615Z"
   },
   {
    "duration": 39,
    "start_time": "2022-12-18T15:12:03.920Z"
   },
   {
    "duration": 25,
    "start_time": "2022-12-18T15:12:03.961Z"
   },
   {
    "duration": 10,
    "start_time": "2022-12-18T15:12:03.988Z"
   },
   {
    "duration": 8,
    "start_time": "2022-12-18T15:12:04.000Z"
   },
   {
    "duration": 7,
    "start_time": "2022-12-18T15:12:04.009Z"
   },
   {
    "duration": 15,
    "start_time": "2022-12-18T15:12:04.018Z"
   },
   {
    "duration": 890,
    "start_time": "2022-12-18T15:12:04.035Z"
   },
   {
    "duration": 354,
    "start_time": "2022-12-18T15:12:04.926Z"
   },
   {
    "duration": 3,
    "start_time": "2022-12-18T15:12:05.282Z"
   },
   {
    "duration": 3,
    "start_time": "2022-12-18T15:12:05.297Z"
   },
   {
    "duration": 6,
    "start_time": "2022-12-18T15:12:05.302Z"
   },
   {
    "duration": 6,
    "start_time": "2022-12-18T15:12:05.309Z"
   },
   {
    "duration": 11,
    "start_time": "2022-12-18T15:12:05.317Z"
   },
   {
    "duration": 70,
    "start_time": "2022-12-18T15:12:05.330Z"
   },
   {
    "duration": 11,
    "start_time": "2022-12-18T15:12:05.402Z"
   },
   {
    "duration": 83,
    "start_time": "2022-12-18T15:12:05.415Z"
   },
   {
    "duration": 6,
    "start_time": "2022-12-18T15:12:05.500Z"
   },
   {
    "duration": 14,
    "start_time": "2022-12-18T15:12:05.507Z"
   },
   {
    "duration": 77,
    "start_time": "2022-12-18T15:12:05.523Z"
   },
   {
    "duration": 4,
    "start_time": "2022-12-18T15:12:05.602Z"
   },
   {
    "duration": 91,
    "start_time": "2022-12-18T15:12:05.607Z"
   },
   {
    "duration": 8,
    "start_time": "2022-12-18T15:12:05.700Z"
   },
   {
    "duration": 94,
    "start_time": "2022-12-18T15:12:05.710Z"
   },
   {
    "duration": 1958,
    "start_time": "2022-12-18T15:29:50.462Z"
   },
   {
    "duration": 38,
    "start_time": "2022-12-18T15:29:52.421Z"
   },
   {
    "duration": 23,
    "start_time": "2022-12-18T15:29:52.460Z"
   },
   {
    "duration": 11,
    "start_time": "2022-12-18T15:29:52.485Z"
   },
   {
    "duration": 9,
    "start_time": "2022-12-18T15:29:52.497Z"
   },
   {
    "duration": 5,
    "start_time": "2022-12-18T15:29:52.507Z"
   },
   {
    "duration": 11,
    "start_time": "2022-12-18T15:29:52.513Z"
   },
   {
    "duration": 787,
    "start_time": "2022-12-18T15:29:52.525Z"
   },
   {
    "duration": 343,
    "start_time": "2022-12-18T15:29:53.313Z"
   },
   {
    "duration": 4,
    "start_time": "2022-12-18T15:29:53.658Z"
   },
   {
    "duration": 7,
    "start_time": "2022-12-18T15:29:53.663Z"
   },
   {
    "duration": 15,
    "start_time": "2022-12-18T15:29:53.671Z"
   },
   {
    "duration": 11,
    "start_time": "2022-12-18T15:29:53.687Z"
   },
   {
    "duration": 11,
    "start_time": "2022-12-18T15:29:53.699Z"
   },
   {
    "duration": 5,
    "start_time": "2022-12-18T15:29:53.712Z"
   },
   {
    "duration": 6,
    "start_time": "2022-12-18T15:29:53.719Z"
   },
   {
    "duration": 73,
    "start_time": "2022-12-18T15:29:53.726Z"
   },
   {
    "duration": 7,
    "start_time": "2022-12-18T15:29:53.801Z"
   },
   {
    "duration": 92,
    "start_time": "2022-12-18T15:29:53.810Z"
   },
   {
    "duration": 4,
    "start_time": "2022-12-18T15:29:53.904Z"
   },
   {
    "duration": 92,
    "start_time": "2022-12-18T15:29:53.910Z"
   },
   {
    "duration": 93,
    "start_time": "2022-12-18T15:29:54.004Z"
   },
   {
    "duration": 8,
    "start_time": "2022-12-18T15:29:54.100Z"
   },
   {
    "duration": 97,
    "start_time": "2022-12-18T15:29:54.110Z"
   },
   {
    "duration": 1357,
    "start_time": "2022-12-19T08:26:27.571Z"
   },
   {
    "duration": 76,
    "start_time": "2022-12-19T08:26:28.930Z"
   },
   {
    "duration": 21,
    "start_time": "2022-12-19T08:26:29.007Z"
   },
   {
    "duration": 10,
    "start_time": "2022-12-19T08:26:29.030Z"
   },
   {
    "duration": 9,
    "start_time": "2022-12-19T08:26:29.042Z"
   },
   {
    "duration": 5,
    "start_time": "2022-12-19T08:26:29.052Z"
   },
   {
    "duration": 7,
    "start_time": "2022-12-19T08:26:29.059Z"
   },
   {
    "duration": 813,
    "start_time": "2022-12-19T08:26:29.067Z"
   },
   {
    "duration": 444,
    "start_time": "2022-12-19T08:26:29.881Z"
   },
   {
    "duration": 4,
    "start_time": "2022-12-19T08:26:30.326Z"
   },
   {
    "duration": 21,
    "start_time": "2022-12-19T08:26:30.331Z"
   },
   {
    "duration": 25,
    "start_time": "2022-12-19T08:26:30.353Z"
   },
   {
    "duration": 18,
    "start_time": "2022-12-19T08:26:30.380Z"
   },
   {
    "duration": 24,
    "start_time": "2022-12-19T08:26:30.401Z"
   },
   {
    "duration": 24,
    "start_time": "2022-12-19T08:26:30.427Z"
   },
   {
    "duration": 118,
    "start_time": "2022-12-19T08:26:30.453Z"
   },
   {
    "duration": 0,
    "start_time": "2022-12-19T08:26:30.573Z"
   },
   {
    "duration": 0,
    "start_time": "2022-12-19T08:26:30.575Z"
   },
   {
    "duration": 0,
    "start_time": "2022-12-19T08:26:30.576Z"
   },
   {
    "duration": 0,
    "start_time": "2022-12-19T08:26:30.577Z"
   },
   {
    "duration": 0,
    "start_time": "2022-12-19T08:26:30.579Z"
   },
   {
    "duration": 0,
    "start_time": "2022-12-19T08:26:30.590Z"
   },
   {
    "duration": 0,
    "start_time": "2022-12-19T08:26:30.592Z"
   },
   {
    "duration": 0,
    "start_time": "2022-12-19T08:26:30.593Z"
   },
   {
    "duration": 0,
    "start_time": "2022-12-19T08:26:30.594Z"
   },
   {
    "duration": 8,
    "start_time": "2022-12-19T08:28:02.452Z"
   },
   {
    "duration": 4,
    "start_time": "2022-12-19T08:28:27.140Z"
   },
   {
    "duration": 5,
    "start_time": "2022-12-19T08:28:28.067Z"
   },
   {
    "duration": 2,
    "start_time": "2022-12-19T08:28:32.412Z"
   },
   {
    "duration": 4,
    "start_time": "2022-12-19T08:28:33.886Z"
   },
   {
    "duration": 6,
    "start_time": "2022-12-19T08:28:40.310Z"
   },
   {
    "duration": 4,
    "start_time": "2022-12-19T08:28:41.666Z"
   },
   {
    "duration": 4,
    "start_time": "2022-12-19T08:28:42.042Z"
   },
   {
    "duration": 10,
    "start_time": "2022-12-19T08:28:43.450Z"
   },
   {
    "duration": 5,
    "start_time": "2022-12-19T08:28:55.036Z"
   },
   {
    "duration": 3,
    "start_time": "2022-12-19T08:28:56.013Z"
   },
   {
    "duration": 4,
    "start_time": "2022-12-19T08:28:56.560Z"
   },
   {
    "duration": 7,
    "start_time": "2022-12-19T08:28:57.829Z"
   },
   {
    "duration": 12,
    "start_time": "2022-12-19T08:28:58.643Z"
   },
   {
    "duration": 7,
    "start_time": "2022-12-19T09:12:16.247Z"
   },
   {
    "duration": 1281,
    "start_time": "2022-12-19T09:13:31.345Z"
   },
   {
    "duration": 34,
    "start_time": "2022-12-19T09:13:32.628Z"
   },
   {
    "duration": 21,
    "start_time": "2022-12-19T09:13:32.664Z"
   },
   {
    "duration": 11,
    "start_time": "2022-12-19T09:13:32.687Z"
   },
   {
    "duration": 27,
    "start_time": "2022-12-19T09:13:32.699Z"
   },
   {
    "duration": 11,
    "start_time": "2022-12-19T09:13:32.727Z"
   },
   {
    "duration": 25,
    "start_time": "2022-12-19T09:13:32.740Z"
   },
   {
    "duration": 815,
    "start_time": "2022-12-19T09:13:32.766Z"
   },
   {
    "duration": 394,
    "start_time": "2022-12-19T09:13:33.583Z"
   },
   {
    "duration": 3,
    "start_time": "2022-12-19T09:13:33.980Z"
   },
   {
    "duration": 13,
    "start_time": "2022-12-19T09:13:33.985Z"
   },
   {
    "duration": 7,
    "start_time": "2022-12-19T09:13:33.999Z"
   },
   {
    "duration": 13,
    "start_time": "2022-12-19T09:13:34.008Z"
   },
   {
    "duration": 11,
    "start_time": "2022-12-19T09:13:34.022Z"
   },
   {
    "duration": 7,
    "start_time": "2022-12-19T09:13:34.034Z"
   },
   {
    "duration": 9,
    "start_time": "2022-12-19T09:13:34.042Z"
   },
   {
    "duration": 18,
    "start_time": "2022-12-19T09:13:34.053Z"
   },
   {
    "duration": 8,
    "start_time": "2022-12-19T09:13:34.072Z"
   },
   {
    "duration": 5,
    "start_time": "2022-12-19T09:13:34.082Z"
   },
   {
    "duration": 33,
    "start_time": "2022-12-19T09:13:34.088Z"
   },
   {
    "duration": 13,
    "start_time": "2022-12-19T09:13:34.124Z"
   },
   {
    "duration": 90,
    "start_time": "2022-12-19T09:13:34.139Z"
   },
   {
    "duration": 15,
    "start_time": "2022-12-19T09:13:34.231Z"
   },
   {
    "duration": 23,
    "start_time": "2022-12-19T09:13:34.247Z"
   },
   {
    "duration": 54,
    "start_time": "2022-12-19T09:13:34.272Z"
   },
   {
    "duration": 96,
    "start_time": "2022-12-19T09:13:34.328Z"
   },
   {
    "duration": 1378,
    "start_time": "2022-12-19T14:53:59.218Z"
   },
   {
    "duration": 83,
    "start_time": "2022-12-19T14:54:00.598Z"
   },
   {
    "duration": 21,
    "start_time": "2022-12-19T14:54:00.682Z"
   },
   {
    "duration": 10,
    "start_time": "2022-12-19T14:54:00.704Z"
   },
   {
    "duration": 49,
    "start_time": "2022-12-19T14:54:00.716Z"
   },
   {
    "duration": 67,
    "start_time": "2022-12-19T14:54:00.766Z"
   },
   {
    "duration": 41,
    "start_time": "2022-12-19T14:54:00.834Z"
   },
   {
    "duration": 892,
    "start_time": "2022-12-19T14:54:00.877Z"
   },
   {
    "duration": 428,
    "start_time": "2022-12-19T14:54:01.770Z"
   },
   {
    "duration": 4,
    "start_time": "2022-12-19T14:54:02.199Z"
   },
   {
    "duration": 41,
    "start_time": "2022-12-19T14:54:02.204Z"
   },
   {
    "duration": 25,
    "start_time": "2022-12-19T14:54:02.246Z"
   },
   {
    "duration": 30,
    "start_time": "2022-12-19T14:54:02.272Z"
   },
   {
    "duration": 84,
    "start_time": "2022-12-19T14:54:02.305Z"
   },
   {
    "duration": 36,
    "start_time": "2022-12-19T14:54:02.391Z"
   },
   {
    "duration": 43,
    "start_time": "2022-12-19T14:54:02.429Z"
   },
   {
    "duration": 10,
    "start_time": "2022-12-19T14:54:02.474Z"
   },
   {
    "duration": 16,
    "start_time": "2022-12-19T14:54:02.485Z"
   },
   {
    "duration": 41,
    "start_time": "2022-12-19T14:54:02.503Z"
   },
   {
    "duration": 18,
    "start_time": "2022-12-19T14:54:02.545Z"
   },
   {
    "duration": 21,
    "start_time": "2022-12-19T14:54:02.565Z"
   },
   {
    "duration": 88,
    "start_time": "2022-12-19T14:54:02.589Z"
   },
   {
    "duration": 13,
    "start_time": "2022-12-19T14:54:02.680Z"
   },
   {
    "duration": 18,
    "start_time": "2022-12-19T14:54:02.694Z"
   },
   {
    "duration": 101,
    "start_time": "2022-12-19T14:54:02.777Z"
   },
   {
    "duration": 16,
    "start_time": "2022-12-19T14:54:02.880Z"
   }
  ],
  "kernelspec": {
   "display_name": "Python 3 (ipykernel)",
   "language": "python",
   "name": "python3"
  },
  "language_info": {
   "codemirror_mode": {
    "name": "ipython",
    "version": 3
   },
   "file_extension": ".py",
   "mimetype": "text/x-python",
   "name": "python",
   "nbconvert_exporter": "python",
   "pygments_lexer": "ipython3",
   "version": "3.11.7"
  },
  "toc": {
   "base_numbering": 1,
   "nav_menu": {},
   "number_sections": true,
   "sideBar": true,
   "skip_h1_title": true,
   "title_cell": "Содержание",
   "title_sidebar": "Contents",
   "toc_cell": true,
   "toc_position": {},
   "toc_section_display": true,
   "toc_window_display": false
  }
 },
 "nbformat": 4,
 "nbformat_minor": 4
}
